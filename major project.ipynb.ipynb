{
 "cells": [
  {
   "cell_type": "code",
   "execution_count": 1,
   "id": "9f2cae26",
   "metadata": {},
   "outputs": [
    {
     "name": "stdout",
     "output_type": "stream",
     "text": [
      "Mac Address is 98:40:bb:3a:e4:62\n",
      "Your Computer Name is:DESKTOP-3VPNJDL\n",
      "Your Computer IP Address is:192.168.1.5\n"
     ]
    }
   ],
   "source": [
    "import uuid\n",
    "import socket\n",
    "hostname = socket.gethostname()\n",
    "IPAddr = socket.gethostbyname(hostname)\n",
    "mac_address = uuid.getnode()\n",
    "mac_address_hex = ':'.join(['{:02x}'.format((mac_address >> elements) & 0xff) for elements in range(0,8*6,8)][::-1])\n",
    "print(\"Mac Address is \" + mac_address_hex)\n",
    "print(\"Your Computer Name is:\" + hostname)\n",
    "print(\"Your Computer IP Address is:\" + IPAddr)"
   ]
  },
  {
   "cell_type": "code",
   "execution_count": 4,
   "id": "2c3c1fa7",
   "metadata": {},
   "outputs": [
    {
     "name": "stdout",
     "output_type": "stream",
     "text": [
      "User-Agent: None\n"
     ]
    }
   ],
   "source": [
    "import requests\n",
    "\n",
    "# URL of a website that you can use to retrieve the User-Agent header\n",
    "url = 'https://www.gfg.com'\n",
    "\n",
    "# Send an HTTP GET request to the website\n",
    "response = requests.get(url)\n",
    "# Check if the request was successful\n",
    "if response.status_code == 200:\n",
    "    # Get the User-Agent header from the response\n",
    "    user_agent = response.headers.get('User-Agent')\n",
    "    print(f'User-Agent: {user_agent}')\n",
    "else:\n",
    "    print(f'Failed to retrieve User-Agent. Status code: {response.status_code}')\n"
   ]
  },
  {
   "cell_type": "code",
   "execution_count": 5,
   "id": "dcf1d9ce",
   "metadata": {},
   "outputs": [
    {
     "name": "stdout",
     "output_type": "stream",
     "text": [
      "Collecting pyttsx3\n",
      "  Downloading pyttsx3-2.90-py3-none-any.whl (39 kB)\n",
      "Collecting comtypes (from pyttsx3)\n",
      "  Obtaining dependency information for comtypes from https://files.pythonhosted.org/packages/c2/a7/fe4bd49b5c4afa7a7ed3852abda6909e48c00715e6a134e47055381113aa/comtypes-1.2.0-py2.py3-none-any.whl.metadata\n",
      "  Downloading comtypes-1.2.0-py2.py3-none-any.whl.metadata (3.7 kB)\n",
      "Collecting pypiwin32 (from pyttsx3)\n",
      "  Downloading pypiwin32-223-py3-none-any.whl (1.7 kB)\n",
      "Requirement already satisfied: pywin32 in c:\\users\\user\\appdata\\roaming\\python\\python311\\site-packages (from pyttsx3) (306)\n",
      "Downloading comtypes-1.2.0-py2.py3-none-any.whl (184 kB)\n",
      "   ---------------------------------------- 0.0/184.3 kB ? eta -:--:--\n",
      "   ----------------- ---------------------- 81.9/184.3 kB 2.3 MB/s eta 0:00:01\n",
      "   ---------------------------------------- 184.3/184.3 kB 2.8 MB/s eta 0:00:00\n",
      "Installing collected packages: comtypes, pypiwin32, pyttsx3\n",
      "Successfully installed comtypes-1.2.0 pypiwin32-223 pyttsx3-2.90\n"
     ]
    }
   ],
   "source": [
    "%pip install pyttsx3\n",
    "\n"
   ]
  },
  {
   "cell_type": "code",
   "execution_count": 6,
   "id": "bb52b36c",
   "metadata": {},
   "outputs": [],
   "source": [
    "#text to speech in english\n",
    "import pyttsx3\n",
    "text_speech= pyttsx3.init()\n",
    "ans=input()\n",
    "#ans=\"AI Chat is an AI chatbot that writes text. You can use it to write stories, messages, or programming code. You can use the AI chatbot as a virtual tutor in almost any subject.\"\n",
    "text_speech.say(ans)\n",
    "text_speech.runAndWait()\n"
   ]
  },
  {
   "cell_type": "code",
   "execution_count": 7,
   "id": "5c2e464e",
   "metadata": {},
   "outputs": [
    {
     "name": "stdout",
     "output_type": "stream",
     "text": [
      "Collecting pyaudio\n",
      "  Downloading PyAudio-0.2.13-cp311-cp311-win_amd64.whl (164 kB)\n",
      "     ---------------------------------------- 0.0/164.1 kB ? eta -:--:--\n",
      "     --------------------------------- ---- 143.4/164.1 kB 4.2 MB/s eta 0:00:01\n",
      "     -------------------------------------- 164.1/164.1 kB 3.3 MB/s eta 0:00:00\n",
      "Installing collected packages: pyaudio\n",
      "Successfully installed pyaudio-0.2.13\n"
     ]
    }
   ],
   "source": [
    "%pip install pyaudio\n"
   ]
  },
  {
   "cell_type": "code",
   "execution_count": 18,
   "id": "f31af6bf",
   "metadata": {},
   "outputs": [],
   "source": []
  },
  {
   "cell_type": "code",
   "execution_count": 8,
   "id": "226415cc",
   "metadata": {},
   "outputs": [
    {
     "ename": "ModuleNotFoundError",
     "evalue": "No module named 'speech_recognition'",
     "output_type": "error",
     "traceback": [
      "\u001b[1;31m---------------------------------------------------------------------------\u001b[0m",
      "\u001b[1;31mModuleNotFoundError\u001b[0m                       Traceback (most recent call last)",
      "\u001b[1;32md:\\Khusheeta\\OneDrive - Mahavir Education Trust\\Documents\\Sem 7\\Agastya\\major project.ipynb.ipynb Cell 7\u001b[0m line \u001b[0;36m2\n\u001b[0;32m      <a href='vscode-notebook-cell:/d%3A/Khusheeta/OneDrive%20-%20Mahavir%20Education%20Trust/Documents/Sem%207/Agastya/major%20project.ipynb.ipynb#W6sZmlsZQ%3D%3D?line=0'>1</a>\u001b[0m \u001b[39m#speech to text\u001b[39;00m\n\u001b[1;32m----> <a href='vscode-notebook-cell:/d%3A/Khusheeta/OneDrive%20-%20Mahavir%20Education%20Trust/Documents/Sem%207/Agastya/major%20project.ipynb.ipynb#W6sZmlsZQ%3D%3D?line=1'>2</a>\u001b[0m \u001b[39mimport\u001b[39;00m \u001b[39mspeech_recognition\u001b[39;00m \u001b[39mas\u001b[39;00m \u001b[39msr\u001b[39;00m\n\u001b[0;32m      <a href='vscode-notebook-cell:/d%3A/Khusheeta/OneDrive%20-%20Mahavir%20Education%20Trust/Documents/Sem%207/Agastya/major%20project.ipynb.ipynb#W6sZmlsZQ%3D%3D?line=2'>3</a>\u001b[0m r\u001b[39m=\u001b[39msr\u001b[39m.\u001b[39mRecognizer()\n\u001b[0;32m      <a href='vscode-notebook-cell:/d%3A/Khusheeta/OneDrive%20-%20Mahavir%20Education%20Trust/Documents/Sem%207/Agastya/major%20project.ipynb.ipynb#W6sZmlsZQ%3D%3D?line=3'>4</a>\u001b[0m \u001b[39mwith\u001b[39;00m sr\u001b[39m.\u001b[39mMicrophone() \u001b[39mas\u001b[39;00m source:\n",
      "\u001b[1;31mModuleNotFoundError\u001b[0m: No module named 'speech_recognition'"
     ]
    }
   ],
   "source": [
    "# #speech to text\n",
    "# import speech_recognition as sr\n",
    "# r=sr.Recognizer()\n",
    "# with sr.Microphone() as source:\n",
    "#     r.adjust_for_ambient_noise(source)\n",
    "#     print(\"Say\")\n",
    "#     audio=r.listen(source)\n",
    "#     try:\n",
    "#         print(r.recognize_google(audio))\n",
    "#     except Exception as e:\n",
    "#         print(\"error\"+str(e))\n",
    "        \n",
    "    "
   ]
  },
  {
   "cell_type": "code",
   "execution_count": 3,
   "id": "5b658deb",
   "metadata": {},
   "outputs": [
    {
     "name": "stderr",
     "output_type": "stream",
     "text": [
      "[nltk_data] Downloading package wordnet to\n",
      "[nltk_data]     C:\\Users\\user\\AppData\\Roaming\\nltk_data...\n",
      "[nltk_data]   Package wordnet is already up-to-date!\n",
      "[nltk_data] Downloading package stopwords to\n",
      "[nltk_data]     C:\\Users\\user\\AppData\\Roaming\\nltk_data...\n",
      "[nltk_data]   Package stopwords is already up-to-date!\n",
      "[nltk_data] Downloading package punkt to\n",
      "[nltk_data]     C:\\Users\\user\\AppData\\Roaming\\nltk_data...\n",
      "[nltk_data]   Package punkt is already up-to-date!\n"
     ]
    },
    {
     "data": {
      "text/plain": [
       "True"
      ]
     },
     "execution_count": 3,
     "metadata": {},
     "output_type": "execute_result"
    }
   ],
   "source": [
    "import pandas as pd\n",
    "import numpy as np\n",
    "import string\n",
    "import re\n",
    "import nltk\n",
    "from sklearn.feature_extraction.text import CountVectorizer\n",
    "from sklearn.feature_extraction.text import TfidfVectorizer\n",
    "from sklearn.preprocessing import LabelEncoder\n",
    "from nltk.tokenize import word_tokenize,RegexpTokenizer\n",
    "from nltk.stem import WordNetLemmatizer\n",
    "nltk.download('wordnet')\n",
    "nltk.download('stopwords')\n",
    "nltk.download('punkt')"
   ]
  },
  {
   "cell_type": "code",
   "execution_count": 4,
   "id": "6b4bc5a6",
   "metadata": {},
   "outputs": [],
   "source": [
    "def data_prep(text):\n",
    "  text=text.lower()\n",
    "  text = re.sub(r'[^\\w\\s]', '', text)\n",
    "  text=\" \".join(t for t in text.split() if t not in stopwords)\n",
    "  return text\n",
    "df=pd.read_csv(\"Mental_Health_FAQ.csv\")\n",
    "df=df.drop([\"Question_ID\"],axis=\"columns\")\n",
    "df[\"Questions\"].str.lower()\n",
    "text=df[\"Questions\"][0]\n",
    "text = re.sub(r'[^\\w\\s]', '', text)\n",
    "words = word_tokenize(text)\n",
    "wnl = WordNetLemmatizer()\n",
    "text=\" \".join([wnl.lemmatize(t) for t in text.split() ])"
   ]
  },
  {
   "cell_type": "code",
   "execution_count": 5,
   "id": "c72fc650",
   "metadata": {},
   "outputs": [],
   "source": [
    "from nltk.corpus import stopwords \n",
    "stopwords=stopwords.words('english')\n",
    "import pandas as pd\n",
    "from sklearn.feature_extraction.text import TfidfVectorizer\n",
    "from sklearn.preprocessing import LabelEncoder\n",
    "\n",
    "# Assuming df is your DataFrame containing the Questions column\n",
    "tf = TfidfVectorizer()\n",
    "tf_train = tf.fit_transform(df[\"Questions\"])\n",
    "\n",
    "# Get feature names using get_feature_names_out() method\n",
    "df_check = pd.DataFrame(tf_train.toarray(), columns=tf.get_feature_names_out())\n",
    "\n",
    "le = LabelEncoder()\n",
    "df[\"Answers_Code\"] = le.fit_transform(df[\"Answers\"])\n"
   ]
  },
  {
   "cell_type": "code",
   "execution_count": 6,
   "id": "b1b23251",
   "metadata": {},
   "outputs": [
    {
     "name": "stdout",
     "output_type": "stream",
     "text": [
      "‘Mental health’ and ‘mental illness’ are increasingly being used as if they mean the same thing, but they do not. Everyone has mental health, just like everyone has health. As the World Health Organization famously says, “There is no health without mental health.” In the course of a lifetime, not all people will experience a mental illness, but everyone will struggle or have a challenge with their mental well-being (i.e., their mental health) just like we all have challenges with our physical well-being from time to time. \n",
      " When we talk about mental health, we’re talking about our mental well-being: our emotions, our thoughts and feelings, our ability to solve problems and overcome difficulties, our social connections, and our understanding of the world around us. \n",
      " A mental illness is an illness the affects that way people think, feel, behave, or interact with others. There are many different mental illnesses, and they have different symptoms that impact peoples’ lives in different ways. \n",
      " Health isn’t like an on/off switch. There are different degrees of health. People move on a continuum ranging from great or good health to so-so health to poor health to illness or disability. For example, some people have good health and have no problems going about their lives. Some people experience serious health problems, and their poor health has a very negative impact on their life. Some people have serious health problems that last for a long time, and others have serious health problems that resolve very quickly. Many people fall somewhere in the middle—they’re generally in good health, though the occasional problem may come up. Mental health is the same way. \n",
      " Just as someone who feels unwell may not have a serious illness, people may have poor mental health without a mental illness. We all have days where we feel a bit down, or stressed out, or overwhelmed by something that’s happening in our lives. An important part of good mental health is the ability to look at problems or concerns realistically. Good mental health isn’t about feeling happy and confident 100% of time and ignoring any problems. It’s about living and coping well despite problems. \n",
      " Just as it’s possible to have poor mental health but no mental illness, it’s entirely possible to have good mental health even with a diagnosis of a mental illness. That’s because mental illnesses (like other health problems) are often episodic, meaning there are times (‘episodes’) of ill health and times of better or good health. \n",
      " With the right supports and tools, anyone can live well—however they define well—and find meaning, contribute to their communities, and work towards their goals.\n"
     ]
    },
    {
     "name": "stderr",
     "output_type": "stream",
     "text": [
      "c:\\Users\\user\\AppData\\Local\\Programs\\Python\\Python311\\Lib\\site-packages\\sklearn\\base.py:465: UserWarning: X does not have valid feature names, but MultinomialNB was fitted with feature names\n",
      "  warnings.warn(\n"
     ]
    }
   ],
   "source": [
    "from sklearn.naive_bayes import MultinomialNB\n",
    "mn=MultinomialNB()\n",
    "mn.fit(df_check,df[\"Answers_Code\"])\n",
    "test=[input()]\n",
    "testing=tf.transform(test)\n",
    "res=mn.predict(testing)\n",
    "Ans=df[\"Answers\"].unique()\n",
    "Ans=Ans.tolist()\n",
    "Ans_Code=df[\"Answers_Code\"].unique()\n",
    "Ans_Code=Ans_Code.tolist()\n",
    "for i in res:\n",
    "    print(Ans[Ans_Code.index(i)])"
   ]
  }
 ],
 "metadata": {
  "kernelspec": {
   "display_name": "Python 3 (ipykernel)",
   "language": "python",
   "name": "python3"
  },
  "language_info": {
   "codemirror_mode": {
    "name": "ipython",
    "version": 3
   },
   "file_extension": ".py",
   "mimetype": "text/x-python",
   "name": "python",
   "nbconvert_exporter": "python",
   "pygments_lexer": "ipython3",
   "version": "3.11.5"
  }
 },
 "nbformat": 4,
 "nbformat_minor": 5
}
