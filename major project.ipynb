{
 "cells": [
  {
   "cell_type": "code",
   "execution_count": 4,
   "id": "9f2cae26",
   "metadata": {},
   "outputs": [
    {
     "name": "stdout",
     "output_type": "stream",
     "text": [
      "Mac Address is ec:f4:bb:58:af:0e\n",
      "Your Computer Name is:DESKTOP-123DMIU\n",
      "Your Computer IP Address is:192.168.0.103\n"
     ]
    }
   ],
   "source": [
    "import uuid\n",
    "import socket\n",
    "hostname = socket.gethostname()\n",
    "IPAddr = socket.gethostbyname(hostname)\n",
    "mac_address = uuid.getnode()\n",
    "mac_address_hex = ':'.join(['{:02x}'.format((mac_address >> elements) & 0xff) for elements in range(0,8*6,8)][::-1])\n",
    "print(\"Mac Address is \" + mac_address_hex)\n",
    "print(\"Your Computer Name is:\" + hostname)\n",
    "print(\"Your Computer IP Address is:\" + IPAddr)"
   ]
  },
  {
   "cell_type": "code",
   "execution_count": 10,
   "id": "2c3c1fa7",
   "metadata": {},
   "outputs": [
    {
     "name": "stdout",
     "output_type": "stream",
     "text": [
      "User-Agent: None\n"
     ]
    }
   ],
   "source": [
    "import requests\n",
    "\n",
    "# URL of a website that you can use to retrieve the User-Agent header\n",
    "url = 'https://www.gfg.com'\n",
    "\n",
    "# Send an HTTP GET request to the website\n",
    "response = requests.get(url)\n",
    "# Check if the request was successful\n",
    "if response.status_code == 200:\n",
    "    # Get the User-Agent header from the response\n",
    "    user_agent = response.headers.get('User-Agent')\n",
    "    print(f'User-Agent: {user_agent}')\n",
    "else:\n",
    "    print(f'Failed to retrieve User-Agent. Status code: {response.status_code}')\n"
   ]
  },
  {
   "cell_type": "code",
   "execution_count": 2,
   "id": "dcf1d9ce",
   "metadata": {},
   "outputs": [
    {
     "name": "stdout",
     "output_type": "stream",
     "text": [
      "Collecting pyttsx3\n",
      "  Downloading pyttsx3-2.90-py3-none-any.whl (39 kB)\n",
      "Collecting pypiwin32\n",
      "  Downloading pypiwin32-223-py3-none-any.whl (1.7 kB)\n",
      "Requirement already satisfied: comtypes in c:\\users\\user\\anaconda3\\lib\\site-packages (from pyttsx3) (1.1.10)\n",
      "Requirement already satisfied: pywin32 in c:\\users\\user\\anaconda3\\lib\\site-packages (from pyttsx3) (228)\n",
      "Installing collected packages: pypiwin32, pyttsx3\n",
      "Successfully installed pypiwin32-223 pyttsx3-2.90\n"
     ]
    }
   ],
   "source": [
    "!pip install pyttsx3\n",
    "\n"
   ]
  },
  {
   "cell_type": "code",
   "execution_count": 10,
   "id": "bb52b36c",
   "metadata": {},
   "outputs": [
    {
     "name": "stdout",
     "output_type": "stream",
     "text": [
      "hii we are hungry\n"
     ]
    }
   ],
   "source": [
    "#text to speech in english\n",
    "import pyttsx3\n",
    "text_speech= pyttsx3.init()\n",
    "ans=input()\n",
    "#ans=\"AI Chat is an AI chatbot that writes text. You can use it to write stories, messages, or programming code. You can use the AI chatbot as a virtual tutor in almost any subject.\"\n",
    "text_speech.say(ans)\n",
    "text_speech.runAndWait()\n"
   ]
  },
  {
   "cell_type": "code",
   "execution_count": 11,
   "id": "5c2e464e",
   "metadata": {},
   "outputs": [
    {
     "name": "stdout",
     "output_type": "stream",
     "text": [
      "Requirement already satisfied: pyaudio in c:\\users\\user\\anaconda3\\lib\\site-packages (0.2.13)\n"
     ]
    }
   ],
   "source": [
    "!pip install pyaudio\n"
   ]
  },
  {
   "cell_type": "code",
   "execution_count": 18,
   "id": "f31af6bf",
   "metadata": {},
   "outputs": [],
   "source": []
  },
  {
   "cell_type": "code",
   "execution_count": 19,
   "id": "226415cc",
   "metadata": {},
   "outputs": [
    {
     "name": "stdout",
     "output_type": "stream",
     "text": [
      "Say\n",
      "hello why are you not working\n"
     ]
    }
   ],
   "source": [
    "#speech to text\n",
    "import speech_recognition as sr\n",
    "r=sr.Recognizer()\n",
    "with sr.Microphone() as source:\n",
    "    r.adjust_for_ambient_noise(source)\n",
    "    print(\"Say\")\n",
    "    audio=r.listen(source)\n",
    "    try:\n",
    "        print(r.recognize_google(audio))\n",
    "    except Exception as e:\n",
    "        print(\"error\"+str(e))\n",
    "        \n",
    "    "
   ]
  },
  {
   "cell_type": "code",
   "execution_count": 20,
   "id": "5b658deb",
   "metadata": {},
   "outputs": [
    {
     "name": "stderr",
     "output_type": "stream",
     "text": [
      "[nltk_data] Downloading package wordnet to\n",
      "[nltk_data]     C:\\Users\\user\\anaconda3\\lib\\nltk_data...\n",
      "[nltk_data]   Package wordnet is already up-to-date!\n",
      "[nltk_data] Downloading package stopwords to\n",
      "[nltk_data]     C:\\Users\\user\\anaconda3\\lib\\nltk_data...\n",
      "[nltk_data]   Package stopwords is already up-to-date!\n",
      "[nltk_data] Downloading package punkt to\n",
      "[nltk_data]     C:\\Users\\user\\anaconda3\\lib\\nltk_data...\n",
      "[nltk_data]   Package punkt is already up-to-date!\n"
     ]
    },
    {
     "data": {
      "text/plain": [
       "True"
      ]
     },
     "execution_count": 20,
     "metadata": {},
     "output_type": "execute_result"
    }
   ],
   "source": [
    "import pandas as pd\n",
    "import numpy as np\n",
    "import string\n",
    "import re\n",
    "import nltk\n",
    "from sklearn.feature_extraction.text import CountVectorizer\n",
    "from sklearn.feature_extraction.text import TfidfVectorizer\n",
    "from sklearn.preprocessing import LabelEncoder\n",
    "from nltk.tokenize import word_tokenize,RegexpTokenizer\n",
    "from nltk.stem import WordNetLemmatizer\n",
    "nltk.download('wordnet')\n",
    "nltk.download('stopwords')\n",
    "nltk.download('punkt')"
   ]
  },
  {
   "cell_type": "code",
   "execution_count": 23,
   "id": "6b4bc5a6",
   "metadata": {},
   "outputs": [],
   "source": [
    "def data_prep(text):\n",
    "  text=text.lower()\n",
    "  text = re.sub(r'[^\\w\\s]', '', text)\n",
    "  text=\" \".join(t for t in text.split() if t not in stopwords)\n",
    "  return text\n",
    "df=pd.read_csv(\"Mental_Health_FAQ.csv\")\n",
    "df=df.drop([\"Question_ID\"],axis=\"columns\")\n",
    "df[\"Questions\"].str.lower()\n",
    "text=df[\"Questions\"][0]\n",
    "text = re.sub(r'[^\\w\\s]', '', text)\n",
    "words = word_tokenize(text)\n",
    "wnl = WordNetLemmatizer()\n",
    "text=\" \".join([wnl.lemmatize(t) for t in text.split() ])"
   ]
  },
  {
   "cell_type": "code",
   "execution_count": 24,
   "id": "c72fc650",
   "metadata": {},
   "outputs": [
    {
     "data": {
      "text/html": [
       "<div>\n",
       "<style scoped>\n",
       "    .dataframe tbody tr th:only-of-type {\n",
       "        vertical-align: middle;\n",
       "    }\n",
       "\n",
       "    .dataframe tbody tr th {\n",
       "        vertical-align: top;\n",
       "    }\n",
       "\n",
       "    .dataframe thead th {\n",
       "        text-align: right;\n",
       "    }\n",
       "</style>\n",
       "<table border=\"1\" class=\"dataframe\">\n",
       "  <thead>\n",
       "    <tr style=\"text-align: right;\">\n",
       "      <th></th>\n",
       "      <th>Questions</th>\n",
       "      <th>Answers</th>\n",
       "      <th>Answers_Code</th>\n",
       "    </tr>\n",
       "  </thead>\n",
       "  <tbody>\n",
       "    <tr>\n",
       "      <th>0</th>\n",
       "      <td>mean mental illness</td>\n",
       "      <td>Mental illnesses are health conditions that di...</td>\n",
       "      <td>48</td>\n",
       "    </tr>\n",
       "    <tr>\n",
       "      <th>1</th>\n",
       "      <td>mental illness affect</td>\n",
       "      <td>It is estimated that mental illness affects 1 ...</td>\n",
       "      <td>35</td>\n",
       "    </tr>\n",
       "    <tr>\n",
       "      <th>2</th>\n",
       "      <td>causes mental illness</td>\n",
       "      <td>It is estimated that mental illness affects 1 ...</td>\n",
       "      <td>36</td>\n",
       "    </tr>\n",
       "    <tr>\n",
       "      <th>3</th>\n",
       "      <td>warning signs mental illness</td>\n",
       "      <td>Symptoms of mental health disorders vary depen...</td>\n",
       "      <td>72</td>\n",
       "    </tr>\n",
       "    <tr>\n",
       "      <th>4</th>\n",
       "      <td>people mental illness recover</td>\n",
       "      <td>When healing from mental illness, early identi...</td>\n",
       "      <td>91</td>\n",
       "    </tr>\n",
       "    <tr>\n",
       "      <th>...</th>\n",
       "      <td>...</td>\n",
       "      <td>...</td>\n",
       "      <td>...</td>\n",
       "    </tr>\n",
       "    <tr>\n",
       "      <th>93</th>\n",
       "      <td>know im drinking much</td>\n",
       "      <td>Sorting out if you are drinking too much can b...</td>\n",
       "      <td>69</td>\n",
       "    </tr>\n",
       "    <tr>\n",
       "      <th>94</th>\n",
       "      <td>cannabis dangerous legalizing</td>\n",
       "      <td>Cannabis smoke, for example, contains cancer-c...</td>\n",
       "      <td>18</td>\n",
       "    </tr>\n",
       "    <tr>\n",
       "      <th>95</th>\n",
       "      <td>convince kids use drugs</td>\n",
       "      <td>You can't. But you can influence their capacit...</td>\n",
       "      <td>96</td>\n",
       "    </tr>\n",
       "    <tr>\n",
       "      <th>96</th>\n",
       "      <td>legal status evidence cbd oil</td>\n",
       "      <td>Cannabidiol or CBD is a naturally occurring co...</td>\n",
       "      <td>17</td>\n",
       "    </tr>\n",
       "    <tr>\n",
       "      <th>97</th>\n",
       "      <td>evidence vaping</td>\n",
       "      <td>\"Vaping\" is the term for using a device where ...</td>\n",
       "      <td>0</td>\n",
       "    </tr>\n",
       "  </tbody>\n",
       "</table>\n",
       "<p>98 rows × 3 columns</p>\n",
       "</div>"
      ],
      "text/plain": [
       "                        Questions  \\\n",
       "0             mean mental illness   \n",
       "1           mental illness affect   \n",
       "2           causes mental illness   \n",
       "3    warning signs mental illness   \n",
       "4   people mental illness recover   \n",
       "..                            ...   \n",
       "93          know im drinking much   \n",
       "94  cannabis dangerous legalizing   \n",
       "95        convince kids use drugs   \n",
       "96  legal status evidence cbd oil   \n",
       "97                evidence vaping   \n",
       "\n",
       "                                              Answers  Answers_Code  \n",
       "0   Mental illnesses are health conditions that di...            48  \n",
       "1   It is estimated that mental illness affects 1 ...            35  \n",
       "2   It is estimated that mental illness affects 1 ...            36  \n",
       "3   Symptoms of mental health disorders vary depen...            72  \n",
       "4   When healing from mental illness, early identi...            91  \n",
       "..                                                ...           ...  \n",
       "93  Sorting out if you are drinking too much can b...            69  \n",
       "94  Cannabis smoke, for example, contains cancer-c...            18  \n",
       "95  You can't. But you can influence their capacit...            96  \n",
       "96  Cannabidiol or CBD is a naturally occurring co...            17  \n",
       "97  \"Vaping\" is the term for using a device where ...             0  \n",
       "\n",
       "[98 rows x 3 columns]"
      ]
     },
     "execution_count": 24,
     "metadata": {},
     "output_type": "execute_result"
    }
   ],
   "source": [
    "from nltk.corpus import stopwords \n",
    "stopwords=stopwords.words('english')\n",
    "df[\"Questions\"]=df[\"Questions\"].apply(data_prep)\n",
    "tf=TfidfVectorizer()\n",
    "tf_train=tf.fit_transform(df[\"Questions\"])\n",
    "df_check=pd.DataFrame(tf_train.toarray(),columns=tf.get_feature_names())\n",
    "le= LabelEncoder()\n",
    "df[\"Answers_Code\"]=le.fit_transform(df[\"Answers\"])\n",
    "df"
   ]
  },
  {
   "cell_type": "code",
   "execution_count": null,
   "id": "b1b23251",
   "metadata": {},
   "outputs": [],
   "source": [
    "from sklearn.naive_bayes import MultinomialNB\n",
    "mn=MultinomialNB()\n",
    "mn.fit(df_check,df[\"Answers_Code\"])\n",
    "test=[input()]\n",
    "testing=tf.transform(test)\n",
    "res=mn.predict(testing)\n",
    "Ans=df[\"Answers\"].unique()\n",
    "Ans=Ans.tolist()\n",
    "Ans_Code=df[\"Answers_Code\"].unique()\n",
    "Ans_Code=Ans_Code.tolist()\n",
    "for i in res:\n",
    "    print(Ans[Ans_Code.index(i)])"
   ]
  },
  {
   "cell_type": "code",
   "execution_count": null,
   "id": "8fcdcb55",
   "metadata": {},
   "outputs": [],
   "source": []
  }
 ],
 "metadata": {
  "kernelspec": {
   "display_name": "Python 3 (ipykernel)",
   "language": "python",
   "name": "python3"
  },
  "language_info": {
   "codemirror_mode": {
    "name": "ipython",
    "version": 3
   },
   "file_extension": ".py",
   "mimetype": "text/x-python",
   "name": "python",
   "nbconvert_exporter": "python",
   "pygments_lexer": "ipython3",
   "version": "3.9.7"
  }
 },
 "nbformat": 4,
 "nbformat_minor": 5
}
